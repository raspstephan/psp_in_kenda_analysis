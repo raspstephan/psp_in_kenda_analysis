{
 "cells": [
  {
   "cell_type": "markdown",
   "metadata": {},
   "source": [
    "# Preload precipitation files\n",
    "\n",
    "Since loading from the original COSMO GRIB files takes quite a long time, I will try to preload them in a separate file. This should hopefully speed up my analysis."
   ]
  },
  {
   "cell_type": "code",
   "execution_count": 6,
   "metadata": {},
   "outputs": [],
   "source": [
    "# Imports\n",
    "from helpers import *\n",
    "from config import *\n",
    "import bcolz\n",
    "import numpy as np\n",
    "import datetime as dt\n",
    "from cosmo_utils.helpers import ddhhmmss\n",
    "import timeit"
   ]
  },
  {
   "cell_type": "code",
   "execution_count": 8,
   "metadata": {
    "collapsed": true
   },
   "outputs": [],
   "source": [
    "# Let's try for one experiment for the deterministic forecasts first\n",
    "exp_id = 'DA_REF'\n",
    "fclt = 24   # Forecast lead time\n",
    "date = '20160529000000'"
   ]
  },
  {
   "cell_type": "code",
   "execution_count": 10,
   "metadata": {
    "collapsed": true
   },
   "outputs": [
    {
     "name": "stdout",
     "output_type": "stream",
     "text": [
      "initial path:  /project/meteo/w2w/A6/S.Rasp/kenda_psp_data/data_forecast/DA_REF/20160529000000/det/lfff00010000_15\n",
      "1h earlier:  /project/meteo/w2w/A6/S.Rasp/kenda_psp_data/data_forecast/DA_REF/20160529000000/det/lfff00000000_15\n",
      "initial path:  /project/meteo/w2w/A6/S.Rasp/kenda_psp_data/data_forecast/DA_REF/20160529000000/det/lfff00020000_15\n",
      "1h earlier:  /project/meteo/w2w/A6/S.Rasp/kenda_psp_data/data_forecast/DA_REF/20160529000000/det/lfff00010000_15\n",
      "initial path:  /project/meteo/w2w/A6/S.Rasp/kenda_psp_data/data_forecast/DA_REF/20160529000000/det/lfff00030000_15\n",
      "1h earlier:  /project/meteo/w2w/A6/S.Rasp/kenda_psp_data/data_forecast/DA_REF/20160529000000/det/lfff00020000_15\n",
      "initial path:  /project/meteo/w2w/A6/S.Rasp/kenda_psp_data/data_forecast/DA_REF/20160529000000/det/lfff00040000_15\n",
      "1h earlier:  /project/meteo/w2w/A6/S.Rasp/kenda_psp_data/data_forecast/DA_REF/20160529000000/det/lfff00030000_15\n",
      "initial path:  /project/meteo/w2w/A6/S.Rasp/kenda_psp_data/data_forecast/DA_REF/20160529000000/det/lfff00050000_15\n",
      "1h earlier:  /project/meteo/w2w/A6/S.Rasp/kenda_psp_data/data_forecast/DA_REF/20160529000000/det/lfff00040000_15\n",
      "initial path:  /project/meteo/w2w/A6/S.Rasp/kenda_psp_data/data_forecast/DA_REF/20160529000000/det/lfff00060000_15\n",
      "1h earlier:  /project/meteo/w2w/A6/S.Rasp/kenda_psp_data/data_forecast/DA_REF/20160529000000/det/lfff00050000_15\n",
      "initial path:  /project/meteo/w2w/A6/S.Rasp/kenda_psp_data/data_forecast/DA_REF/20160529000000/det/lfff00070000_15\n",
      "1h earlier:  /project/meteo/w2w/A6/S.Rasp/kenda_psp_data/data_forecast/DA_REF/20160529000000/det/lfff00060000_15\n",
      "initial path:  /project/meteo/w2w/A6/S.Rasp/kenda_psp_data/data_forecast/DA_REF/20160529000000/det/lfff00080000_15\n",
      "1h earlier:  /project/meteo/w2w/A6/S.Rasp/kenda_psp_data/data_forecast/DA_REF/20160529000000/det/lfff00070000_15\n",
      "initial path:  /project/meteo/w2w/A6/S.Rasp/kenda_psp_data/data_forecast/DA_REF/20160529000000/det/lfff00090000_15\n",
      "1h earlier:  /project/meteo/w2w/A6/S.Rasp/kenda_psp_data/data_forecast/DA_REF/20160529000000/det/lfff00080000_15\n",
      "initial path:  /project/meteo/w2w/A6/S.Rasp/kenda_psp_data/data_forecast/DA_REF/20160529000000/det/lfff00100000_15\n",
      "1h earlier:  /project/meteo/w2w/A6/S.Rasp/kenda_psp_data/data_forecast/DA_REF/20160529000000/det/lfff00090000_15\n",
      "initial path:  /project/meteo/w2w/A6/S.Rasp/kenda_psp_data/data_forecast/DA_REF/20160529000000/det/lfff00110000_15\n",
      "1h earlier:  /project/meteo/w2w/A6/S.Rasp/kenda_psp_data/data_forecast/DA_REF/20160529000000/det/lfff00100000_15\n",
      "initial path:  /project/meteo/w2w/A6/S.Rasp/kenda_psp_data/data_forecast/DA_REF/20160529000000/det/lfff00120000_15\n",
      "1h earlier:  /project/meteo/w2w/A6/S.Rasp/kenda_psp_data/data_forecast/DA_REF/20160529000000/det/lfff00110000_15\n",
      "initial path:  /project/meteo/w2w/A6/S.Rasp/kenda_psp_data/data_forecast/DA_REF/20160529000000/det/lfff00130000_15\n",
      "1h earlier:  /project/meteo/w2w/A6/S.Rasp/kenda_psp_data/data_forecast/DA_REF/20160529000000/det/lfff00120000_15\n",
      "initial path:  /project/meteo/w2w/A6/S.Rasp/kenda_psp_data/data_forecast/DA_REF/20160529000000/det/lfff00140000_15\n",
      "1h earlier:  /project/meteo/w2w/A6/S.Rasp/kenda_psp_data/data_forecast/DA_REF/20160529000000/det/lfff00130000_15\n",
      "initial path:  /project/meteo/w2w/A6/S.Rasp/kenda_psp_data/data_forecast/DA_REF/20160529000000/det/lfff00150000_15\n",
      "1h earlier:  /project/meteo/w2w/A6/S.Rasp/kenda_psp_data/data_forecast/DA_REF/20160529000000/det/lfff00140000_15\n",
      "initial path:  /project/meteo/w2w/A6/S.Rasp/kenda_psp_data/data_forecast/DA_REF/20160529000000/det/lfff00160000_15\n",
      "1h earlier:  /project/meteo/w2w/A6/S.Rasp/kenda_psp_data/data_forecast/DA_REF/20160529000000/det/lfff00150000_15\n",
      "initial path:  /project/meteo/w2w/A6/S.Rasp/kenda_psp_data/data_forecast/DA_REF/20160529000000/det/lfff00170000_15\n",
      "1h earlier:  /project/meteo/w2w/A6/S.Rasp/kenda_psp_data/data_forecast/DA_REF/20160529000000/det/lfff00160000_15\n",
      "initial path:  /project/meteo/w2w/A6/S.Rasp/kenda_psp_data/data_forecast/DA_REF/20160529000000/det/lfff00180000_15\n",
      "1h earlier:  /project/meteo/w2w/A6/S.Rasp/kenda_psp_data/data_forecast/DA_REF/20160529000000/det/lfff00170000_15\n",
      "initial path:  /project/meteo/w2w/A6/S.Rasp/kenda_psp_data/data_forecast/DA_REF/20160529000000/det/lfff00190000_15\n",
      "1h earlier:  /project/meteo/w2w/A6/S.Rasp/kenda_psp_data/data_forecast/DA_REF/20160529000000/det/lfff00180000_15\n",
      "initial path:  /project/meteo/w2w/A6/S.Rasp/kenda_psp_data/data_forecast/DA_REF/20160529000000/det/lfff00200000_15\n",
      "1h earlier:  /project/meteo/w2w/A6/S.Rasp/kenda_psp_data/data_forecast/DA_REF/20160529000000/det/lfff00190000_15\n",
      "initial path:  /project/meteo/w2w/A6/S.Rasp/kenda_psp_data/data_forecast/DA_REF/20160529000000/det/lfff00210000_15\n",
      "1h earlier:  /project/meteo/w2w/A6/S.Rasp/kenda_psp_data/data_forecast/DA_REF/20160529000000/det/lfff00200000_15\n",
      "initial path:  /project/meteo/w2w/A6/S.Rasp/kenda_psp_data/data_forecast/DA_REF/20160529000000/det/lfff00220000_15\n",
      "1h earlier:  /project/meteo/w2w/A6/S.Rasp/kenda_psp_data/data_forecast/DA_REF/20160529000000/det/lfff00210000_15\n",
      "initial path:  /project/meteo/w2w/A6/S.Rasp/kenda_psp_data/data_forecast/DA_REF/20160529000000/det/lfff00230000_15\n",
      "1h earlier:  /project/meteo/w2w/A6/S.Rasp/kenda_psp_data/data_forecast/DA_REF/20160529000000/det/lfff00220000_15\n",
      "initial path:  /project/meteo/w2w/A6/S.Rasp/kenda_psp_data/data_forecast/DA_REF/20160529000000/det/lfff01000000_15\n",
      "1h earlier:  /project/meteo/w2w/A6/S.Rasp/kenda_psp_data/data_forecast/DA_REF/20160529000000/det/lfff00230000_15\n",
      "Time: 4.82 s\n"
     ]
    }
   ],
   "source": [
    "data_dir = datadir + exp_id + ''\n",
    "time_start = timeit.default_timer()\n",
    "for h in range(1, fclt +1):\n",
    "    hstr = ddhhmmss(dt.timedelta(hours=h))\n",
    "    p = load_det(data_dir, date, hstr, return_array=True);\n",
    "    if h == 1:  # Allocate output array\n",
    "        prec = np.empty((fclt, p.shape[0], p.shape[1]))\n",
    "    prec[h - 1] = p\n",
    "time_stop = timeit.default_timer()\n",
    "print('Time: %.2f s' % (time_stop - time_start))"
   ]
  },
  {
   "cell_type": "markdown",
   "metadata": {},
   "source": [
    "Loading the data initially takes 8.6s, then if it's loaded again it takes 4.8s"
   ]
  },
  {
   "cell_type": "code",
   "execution_count": 11,
   "metadata": {},
   "outputs": [
    {
     "data": {
      "text/plain": [
       "(24, 461, 421)"
      ]
     },
     "execution_count": 11,
     "metadata": {},
     "output_type": "execute_result"
    }
   ],
   "source": [
    "prec.shape"
   ]
  },
  {
   "cell_type": "code",
   "execution_count": 12,
   "metadata": {
    "collapsed": true
   },
   "outputs": [],
   "source": [
    "# From fast.ai deeplearning course 1 in utils.py\n",
    "def save_array(fname, arr):\n",
    "    c=bcolz.carray(arr, rootdir=fname, mode='w')\n",
    "    c.flush()\n",
    "\n",
    "\n",
    "def load_array(fname):\n",
    "    return bcolz.open(fname)[:]"
   ]
  },
  {
   "cell_type": "code",
   "execution_count": 13,
   "metadata": {
    "collapsed": true
   },
   "outputs": [],
   "source": [
    "fn = '/project/meteo/w2w/A6/S.Rasp/tmp/test.bc'\n",
    "save_array(fn, prec)"
   ]
  },
  {
   "cell_type": "code",
   "execution_count": 16,
   "metadata": {},
   "outputs": [
    {
     "name": "stdout",
     "output_type": "stream",
     "text": [
      "3.3M\t/project/meteo/w2w/A6/S.Rasp/tmp/test.bc/data\r\n",
      "950K\t/project/meteo/w2w/A6/S.Rasp/tmp/test.bc/meta\r\n",
      "4.3M\t/project/meteo/w2w/A6/S.Rasp/tmp/test.bc\r\n"
     ]
    }
   ],
   "source": [
    "!du -h -d1 /project/meteo/w2w/A6/S.Rasp/tmp/test.bc"
   ]
  },
  {
   "cell_type": "code",
   "execution_count": 18,
   "metadata": {},
   "outputs": [
    {
     "name": "stdout",
     "output_type": "stream",
     "text": [
      "Time: 0.17 s\n"
     ]
    }
   ],
   "source": [
    "time_start = timeit.default_timer()\n",
    "prec = load_array(fn)\n",
    "time_stop = timeit.default_timer()\n",
    "print('Time: %.2f s' % (time_stop - time_start))"
   ]
  },
  {
   "cell_type": "markdown",
   "metadata": {},
   "source": [
    "Now let's do the same for an ensemble"
   ]
  },
  {
   "cell_type": "code",
   "execution_count": 19,
   "metadata": {
    "collapsed": true
   },
   "outputs": [],
   "source": [
    "exp_id = 'DA_REF_ens'"
   ]
  },
  {
   "cell_type": "code",
   "execution_count": 21,
   "metadata": {
    "scrolled": true
   },
   "outputs": [
    {
     "name": "stdout",
     "output_type": "stream",
     "text": [
      "read to tmp-file /tmp/user/13098/tmp9okG27fieldobj_list_array_met-ws-720e07_10156.npy\n",
      "reading took 0:00:03.546789\n",
      "read to tmp-file /tmp/user/13098/tmp9okG27fieldobj_list_array_met-ws-720e07_10156.npy\n",
      "reading took 0:00:04.124560\n",
      "read to tmp-file /tmp/user/13098/tmp9okG27fieldobj_list_array_met-ws-720e07_10156.npy\n",
      "reading took 0:00:03.958489\n",
      "read to tmp-file /tmp/user/13098/tmp9okG27fieldobj_list_array_met-ws-720e07_10156.npy\n",
      "reading took 0:00:03.943129\n",
      "read to tmp-file /tmp/user/13098/tmp9okG27fieldobj_list_array_met-ws-720e07_10156.npy\n",
      "reading took 0:00:03.952523\n",
      "read to tmp-file /tmp/user/13098/tmp9okG27fieldobj_list_array_met-ws-720e07_10156.npy\n",
      "reading took 0:00:04.052176\n",
      "read to tmp-file /tmp/user/13098/tmp9okG27fieldobj_list_array_met-ws-720e07_10156.npy\n",
      "reading took 0:00:04.124520\n",
      "read to tmp-file /tmp/user/13098/tmp9okG27fieldobj_list_array_met-ws-720e07_10156.npy\n",
      "reading took 0:00:04.058961\n",
      "read to tmp-file /tmp/user/13098/tmp9okG27fieldobj_list_array_met-ws-720e07_10156.npy\n",
      "reading took 0:00:04.002267\n",
      "read to tmp-file /tmp/user/13098/tmp9okG27fieldobj_list_array_met-ws-720e07_10156.npy\n",
      "reading took 0:00:04.002137\n",
      "read to tmp-file /tmp/user/13098/tmp9okG27fieldobj_list_array_met-ws-720e07_10156.npy\n",
      "reading took 0:00:04.277780\n",
      "read to tmp-file /tmp/user/13098/tmp9okG27fieldobj_list_array_met-ws-720e07_10156.npy\n",
      "reading took 0:00:03.836598\n",
      "read to tmp-file /tmp/user/13098/tmp9okG27fieldobj_list_array_met-ws-720e07_10156.npy\n",
      "reading took 0:00:04.083125\n",
      "read to tmp-file /tmp/user/13098/tmp9okG27fieldobj_list_array_met-ws-720e07_10156.npy\n",
      "reading took 0:00:03.987571\n",
      "read to tmp-file /tmp/user/13098/tmp9okG27fieldobj_list_array_met-ws-720e07_10156.npy\n",
      "reading took 0:00:03.962827\n",
      "read to tmp-file /tmp/user/13098/tmp9okG27fieldobj_list_array_met-ws-720e07_10156.npy\n",
      "reading took 0:00:03.952954\n",
      "read to tmp-file /tmp/user/13098/tmp9okG27fieldobj_list_array_met-ws-720e07_10156.npy\n",
      "reading took 0:00:03.846858\n",
      "read to tmp-file /tmp/user/13098/tmp9okG27fieldobj_list_array_met-ws-720e07_10156.npy\n",
      "reading took 0:00:03.937958\n",
      "read to tmp-file /tmp/user/13098/tmp9okG27fieldobj_list_array_met-ws-720e07_10156.npy\n",
      "reading took 0:00:03.950781\n",
      "read to tmp-file /tmp/user/13098/tmp9okG27fieldobj_list_array_met-ws-720e07_10156.npy\n",
      "reading took 0:00:04.071146\n",
      "read to tmp-file /tmp/user/13098/tmp9okG27fieldobj_list_array_met-ws-720e07_10156.npy\n",
      "reading took 0:00:03.830736\n",
      "read to tmp-file /tmp/user/13098/tmp9okG27fieldobj_list_array_met-ws-720e07_10156.npy\n",
      "reading took 0:00:03.828355\n",
      "read to tmp-file /tmp/user/13098/tmp9okG27fieldobj_list_array_met-ws-720e07_10156.npy\n",
      "reading took 0:00:03.914124\n",
      "read to tmp-file /tmp/user/13098/tmp9okG27fieldobj_list_array_met-ws-720e07_10156.npy\n",
      "reading took 0:00:04.003697\n",
      "Time: 99.05 s\n"
     ]
    }
   ],
   "source": [
    "data_dir = datadir + exp_id + ''\n",
    "time_start = timeit.default_timer()\n",
    "for h in range(1, fclt +1):\n",
    "    hstr = ddhhmmss(dt.timedelta(hours=h))\n",
    "    p = np.array(load_ens(data_dir, date, hstr, return_array=True))\n",
    "    if h == 1:  # Allocate output array\n",
    "        prec = np.empty((fclt, p.shape[0], p.shape[1], p.shape[2]))\n",
    "    prec[h - 1] = p\n",
    "time_stop = timeit.default_timer()\n",
    "print('Time: %.2f s' % (time_stop - time_start))"
   ]
  },
  {
   "cell_type": "code",
   "execution_count": 22,
   "metadata": {},
   "outputs": [
    {
     "data": {
      "text/plain": [
       "(24, 20, 461, 421)"
      ]
     },
     "execution_count": 22,
     "metadata": {},
     "output_type": "execute_result"
    }
   ],
   "source": [
    "prec.shape"
   ]
  },
  {
   "cell_type": "code",
   "execution_count": 23,
   "metadata": {
    "collapsed": true
   },
   "outputs": [],
   "source": [
    "fn = '/project/meteo/w2w/A6/S.Rasp/tmp/test_ens.bc'\n",
    "save_array(fn, prec)"
   ]
  },
  {
   "cell_type": "code",
   "execution_count": 24,
   "metadata": {},
   "outputs": [
    {
     "name": "stdout",
     "output_type": "stream",
     "text": [
      "70M\t/project/meteo/w2w/A6/S.Rasp/tmp/test_ens.bc/data\r\n",
      "19M\t/project/meteo/w2w/A6/S.Rasp/tmp/test_ens.bc/meta\r\n",
      "88M\t/project/meteo/w2w/A6/S.Rasp/tmp/test_ens.bc\r\n"
     ]
    }
   ],
   "source": [
    "!du -h -d1 /project/meteo/w2w/A6/S.Rasp/tmp/test_ens.bc"
   ]
  },
  {
   "cell_type": "code",
   "execution_count": 25,
   "metadata": {},
   "outputs": [
    {
     "name": "stdout",
     "output_type": "stream",
     "text": [
      "Time: 1.18 s\n"
     ]
    }
   ],
   "source": [
    "time_start = timeit.default_timer()\n",
    "prec = load_array(fn)\n",
    "time_stop = timeit.default_timer()\n",
    "print('Time: %.2f s' % (time_stop - time_start))"
   ]
  },
  {
   "cell_type": "markdown",
   "metadata": {},
   "source": [
    "99s to 1s. That should speed up things quite considerably."
   ]
  },
  {
   "cell_type": "code",
   "execution_count": 26,
   "metadata": {
    "collapsed": true
   },
   "outputs": [],
   "source": [
    "np.save('/project/meteo/w2w/A6/S.Rasp/tmp/test_ens.npy', prec)"
   ]
  },
  {
   "cell_type": "code",
   "execution_count": 28,
   "metadata": {},
   "outputs": [
    {
     "name": "stdout",
     "output_type": "stream",
     "text": [
      "Time: 0.27 s\n"
     ]
    }
   ],
   "source": [
    "time_start = timeit.default_timer()\n",
    "prec = np.load('/project/meteo/w2w/A6/S.Rasp/tmp/test_ens.npy')\n",
    "time_stop = timeit.default_timer()\n",
    "print('Time: %.2f s' % (time_stop - time_start))"
   ]
  },
  {
   "cell_type": "code",
   "execution_count": null,
   "metadata": {
    "collapsed": true
   },
   "outputs": [],
   "source": []
  }
 ],
 "metadata": {
  "kernelspec": {
   "display_name": "Python 2",
   "language": "python",
   "name": "python2"
  },
  "language_info": {
   "codemirror_mode": {
    "name": "ipython",
    "version": 2
   },
   "file_extension": ".py",
   "mimetype": "text/x-python",
   "name": "python",
   "nbconvert_exporter": "python",
   "pygments_lexer": "ipython2",
   "version": "2.7.13"
  }
 },
 "nbformat": 4,
 "nbformat_minor": 2
}
