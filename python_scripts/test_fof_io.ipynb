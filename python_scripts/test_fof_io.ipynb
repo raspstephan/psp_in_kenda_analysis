{
 "cells": [
  {
   "cell_type": "code",
   "execution_count": 1,
   "metadata": {
    "collapsed": true
   },
   "outputs": [],
   "source": [
    "import sys\n",
    "sys.path.append('/home/s/S.Rasp/repositories/kendapy')\n",
    "from ekf import Ekf"
   ]
  },
  {
   "cell_type": "code",
   "execution_count": 4,
   "metadata": {},
   "outputs": [],
   "source": [
    "test_fn = '/project/meteo/w2w/A6/S.Rasp/kenda_psp_data/data_forecast/DA_REF/20160526000000/det/fof_20160526000000.nc'"
   ]
  },
  {
   "cell_type": "code",
   "execution_count": 6,
   "metadata": {
    "scrolled": true
   },
   "outputs": [
    {
     "name": "stdout",
     "output_type": "stream",
     "text": [
      "\n",
      "-- -- -- -- -- -- -- -- -- -- -- -- -- -- -- -- -- -- -- -- -- -- -- -- -- \n",
      "-- Ekf : Opening /project/meteo/w2w/A6/S.Rasp/kenda_psp_data/data_forecast/DA_REF/20160526000000/det/fof_20160526000000.nc...\n",
      "-- global attributes :\n",
      "--                     history | 201702191149    COSMO 201605260000 deterministic forecast                       \n",
      "--                       title | COSMO      Verification Data\n",
      "--                 institution | -\n",
      "--                      source | COSMO      -\n",
      "--         file_version_number |  1.01\n",
      "--                       n_hdr | 44241\n",
      "--                      n_body | 323235\n",
      "--                     n_radar | 0\n",
      "--       verification_ref_date | 20160526\n",
      "--       verification_ref_time | 0\n",
      "--          verification_start | 1\n",
      "--            verification_end | 1440\n",
      "--                  resolution | [ 0.025  0.025]\n",
      "--                 domain_size | [421 461  50]\n",
      "--                pole_lat_lon | [  40. -170.]\n",
      "--          lower_left_lat_lon | [-5. -5.]\n",
      "--         upper_right_lat_lon | [ 6.5  5.5]\n",
      "-- Found n_body = 323235 obs in n_hdr = 44241 reports...\n",
      "-- available variables :\n",
      "--                    i_body (u'd_hdr',) 302448 0 ,  0 , ...  --\n",
      "--                    l_body (u'd_hdr',) 302448 3 ,  3 , ...  --\n",
      "--                   n_level (u'd_hdr',) 302448 1 ,  1 , ...  --\n",
      "--             data_category (u'd_hdr',) 302448 4 ,  4 , ...  --\n",
      "--              sub_category (u'd_hdr',) 302448 0 ,  0 , ...  --\n",
      "--                    center (u'd_hdr',) 302448 78 ,  78 , ...  --\n",
      "--                sub_center (u'd_hdr',) 302448 56 ,  56 , ...  --\n",
      "--                   obstype (u'd_hdr',) 302448 2 ,  2 , ...  --\n",
      "--                  codetype (u'd_hdr',) 302448 145 ,  145 , ...  --\n",
      "--                     ident (u'd_hdr',) 302448 -- ,  -- , ...  --\n",
      "--                    statid (u'd_hdr', u'char10') 3024480 \" SGBGUUZA   \", ... \"  \"\n",
      "--                       lat (u'd_hdr',) 302448 52.28 ,  52.28 , ...  --\n",
      "--                       lon (u'd_hdr',) 302448 12.08 ,  12.08 , ...  --\n",
      "--                      time (u'd_hdr',) 302448 2 ,  2 , ...  --\n",
      "--                 time_nomi (u'd_hdr',) 302448 0 ,  0 , ...  --\n",
      "--                time_dbase (u'd_hdr',) 302448 12 ,  12 , ...  --\n",
      "--                 z_station (u'd_hdr',) 302448 -- ,  -- , ...  --\n",
      "--                 z_modsurf (u'd_hdr',) 302448 49 ,  49 , ...  --\n",
      "--                   r_state (u'd_hdr',) 302448 1 ,  1 , ...  --\n",
      "--                   r_flags (u'd_hdr',) 302448 0 ,  0 , ...  --\n",
      "--                   r_check (u'd_hdr',) 302448 32 ,  32 , ...  --\n",
      "--                  sta_corr (u'd_hdr',) 302448 0 ,  0 , ...  --\n",
      "--                   index_x (u'd_hdr',) 302448 252 ,  252 , ...  --\n",
      "--                   index_y (u'd_hdr',) 302448 293 ,  293 , ...  --\n",
      "--                    mdlsfc (u'd_hdr',) 302448 0 ,  0 , ...  --\n",
      "--                   instype (u'd_hdr',) 302448 -- ,  -- , ...  --\n",
      "--                 sun_zenit (u'd_hdr',) 302448 105.499 ,  105.499 , ...  --\n",
      "--                     phase (u'd_hdr',) 302448 7 ,  7 , ...  --\n",
      "--                  tracking (u'd_hdr',) 302448 -- ,  -- , ...  --\n",
      "--                 meas_type (u'd_hdr',) 302448 -- ,  -- , ...  --\n",
      "--                  rad_corr (u'd_hdr',) 302448 -- ,  -- , ...  --\n",
      "--                     varno (u'd_body',) 7796784 3 ,  3 , ...  --\n",
      "--                       obs (u'd_body',) 7796784 -4.5376 ,  -4.5376 , ...  --\n",
      "--                      bcor (u'd_body',) 7796784 0.0 ,  0.0 , ...  --\n",
      "--                     level (u'd_body',) 7796784 8809.0 ,  8809.0 , ...  --\n",
      "--                 level_typ (u'd_body',) 7796784 157 ,  157 , ...  --\n",
      "--                 level_sig (u'd_body',) 7796784 16 ,  16 , ...  --\n",
      "--                     state (u'd_body',) 7796784 1 ,  1 , ...  --\n",
      "--                     flags (u'd_body',) 7796784 0 ,  0 , ...  --\n",
      "--                     check (u'd_body',) 7796784 32 ,  32 , ...  --\n",
      "--                       e_o (u'd_body',) 7796784 4.0 ,  4.0 , ...  --\n",
      "--                      qual (u'd_body',) 7796784 3 ,  3 , ...  --\n",
      "--                    plevel (u'd_body',) 7796784 31630.0 ,  31630.0 , ...  --\n",
      "--                      dlat (u'd_body',) 7796784 -- ,  -- , ...  --\n",
      "--                      dlon (u'd_body',) 7796784 -- ,  -- , ...  --\n",
      "--                  accuracy (u'd_body',) 7796784 -- ,  -- , ...  --\n",
      "--                veri_model (u'd_veri', u'char10') 10 \" COSMO      \", ... \" COSMO      \"\n",
      "--             veri_run_type (u'd_veri',) 1 0 ,  0 , ...  0\n",
      "--            veri_run_class (u'd_veri',) 1 2 ,  2 , ...  2\n",
      "--        veri_forecast_time (u'd_veri',) 1 2400 ,  2400 , ...  2400\n",
      "--           veri_ens_member (u'd_veri',) 1 -1 ,  -1 , ...  -1\n",
      "--               veri_exp_id (u'd_veri',) 1 1 ,  1 , ...  1\n",
      "--        veri_operator_flag (u'd_veri',) 1 0 ,  0 , ...  0\n",
      "-- header       variables :  [u'i_body', u'l_body', u'n_level', u'data_category', u'sub_category', u'center', u'sub_center', u'obstype', u'codetype', u'ident', u'statid', u'lat', u'lon', u'time', u'time_nomi', u'time_dbase', u'z_station', u'z_modsurf', u'r_state', u'r_flags', u'r_check', u'sta_corr', u'index_x', u'index_y', u'mdlsfc', u'instype', u'sun_zenit', u'phase', u'tracking', u'meas_type', u'rad_corr']\n",
      "-- body         variables :  [u'varno', u'obs', u'bcor', u'level', u'level_typ', u'level_sig', u'state', u'flags', u'check', u'e_o', u'qual', u'plevel', u'dlat', u'dlon', u'accuracy']\n",
      "-- verification variables :  [u'veri_data', u'veri_model', u'veri_run_type', u'veri_run_class', u'veri_initial_date', u'veri_forecast_time', u'veri_resolution', u'veri_domain_size', u'veri_description', u'veri_ens_member', u'veri_exp_id', u'veri_operator_flag']\n",
      "WARNING: Encountered unknown variable number 238 !\n",
      "WARNING: Encountered unknown variable number 239 !\n",
      "WARNING: Encountered unknown variable number 237 !\n",
      "-- variables available for obstype SYNOP :  TMIN  FF  TD2M  DD  V239  V238  JJ  V237  SDEPTH  NH  PS  T2M  NM  RR  GUST  NHcbh  U10M  V10M  RH  HEIGHT  RH2M  T  VV  NL  N  PTEND \n",
      "-- variables available for obstype TEMP :  T2M  NM  RR  TD2M  GUST  NHcbh  U10M  HEIGHT  RH2M  V10M  U  T  V  NL  V237  RH \n",
      "-- variables available for obstype AIREP :  TMIN  RR  TD2M  GUST  DD  HEIGHT  V239  T  JJ  V  U  V237  RH  PTEND  V238 \n",
      "--\n",
      "-- verification runs ------------------------------------------------------------------------------------------------------------------------\n",
      "--    i |             type |     class |          ens. member |   exp_id |  time |      model | description\n",
      "--    0 | 0 =     FORECAST | 2 =   ASS |          -1 = DETERM |        1 |  2400 |      COSMO |  deterministic forecast\n",
      "------------------------------------------------------------------------------------------------------------------------------------------\n",
      "WARNING: cannot find analysis ensemble mean in observation space in /project/meteo/w2w/A6/S.Rasp/kenda_psp_data/data_forecast/DA_REF/20160526000000/det/fof_20160526000000.nc\n",
      "WARNING: cannot find first guess ensemble mean in observation space in /project/meteo/w2w/A6/S.Rasp/kenda_psp_data/data_forecast/DA_REF/20160526000000/det/fof_20160526000000.nc\n",
      "WARNING: cannot find first guess ensemble spread in observation space in /project/meteo/w2w/A6/S.Rasp/kenda_psp_data/data_forecast/DA_REF/20160526000000/det/fof_20160526000000.nc\n",
      "WARNING: cannot find first first guess ensemble member in /project/meteo/w2w/A6/S.Rasp/kenda_psp_data/data_forecast/DA_REF/20160526000000/det/fof_20160526000000.nc\n",
      "WARNING: cannot find first analysis ensemble member in /project/meteo/w2w/A6/S.Rasp/kenda_psp_data/data_forecast/DA_REF/20160526000000/det/fof_20160526000000.nc\n",
      "WARNING: cannot find deterministic ensemble member first guess in /project/meteo/w2w/A6/S.Rasp/kenda_psp_data/data_forecast/DA_REF/20160526000000/det/fof_20160526000000.nc\n",
      "WARNING: cannot find deterministic ensemble member analysis in /project/meteo/w2w/A6/S.Rasp/kenda_psp_data/data_forecast/DA_REF/20160526000000/det/fof_20160526000000.nc\n",
      "-- set_filter [state=active,obstype=all,varname=all] : using 87169 of 323235 observations\n",
      "-- obstypes  left after filtering :  ['SYNOP', 'AIREP', 'TEMP']\n",
      "-- variables left after filtering :  ['T', 'U', 'V', 'U10M', 'V10M', 'PS', 'DD', 'FF', 'HEIGHT', 'RH']\n",
      "\n",
      "---------------------------------------------------------------------------------\n",
      "-- state and flags statistics  (without filter) : -------------------------------\n",
      "---------------------------------------------------------------------------------\n",
      "     R_STATE       R_CHECK  |         STATE         CHECK  |   #CASES      T      U      V   V238   V239  HEIGHT     RH  PTEND    T2M   TD2M   U10M   V10M   RH2M     VV  NHcbh     NL  SDEPTH     RR     JJ      N     NM     NH   V237     PS     DD     FF   GUST   TMIN \n",
      "---------------------------------------------------------------------------------\n"
     ]
    },
    {
     "name": "stdout",
     "output_type": "stream",
     "text": [
      "      ACTIVE          NONE  |        ACTIVE          NONE  |    87169 17792  16997  16997      0      0     55   3355      0      0      0   4521   4521      0      0      0      0      0      0      0      0      0      0      0  13969   4450   4512      0      0 \n",
      "      ACTIVE          NONE  |       PASSIVE       OBSTYPE  |    48220     0      0      0   1653    119      0      0      0      0      0      0      0      0      0   7825   7696      0   8765   1141   7655   3246   1615   4174      0      0      0   2962   1369 \n",
      "      ACTIVE          NONE  |      REJECTED     BLACKLIST  |      564   430     34     34      0      0      2      0      0      0      0     16     16      0      0      0      0      0      0      0      0      0      0      0      0     16     16      0      0 \n",
      "      ACTIVE          NONE  |      REJECTED        HEIGHT  |    85774   105     57     57      0      0    722   1156      0  14275  16417   9669   9669  14225      0      0      0      0      0      0      0      0      0      0      0   9753   9669      0      0 \n",
      "      ACTIVE          NONE  |      REJECTED      PRACTICE  |       17     0      0      0      0      0     11      1      0      0      5      0      0      0      0      0      0      0      0      0      0      0      0      0      0      0      0      0      0 \n",
      "      ACTIVE          NONE  |      REJECTED       DATASET  |     2232     0   1116   1116      0      0      0      0      0      0      0      0      0      0      0      0      0      0      0      0      0      0      0      0      0      0      0      0      0 \n",
      "      ACTIVE          NONE  |      REJECTED         GROSS  |        5     1      0      0      0      0      0      4      0      0      0      0      0      0      0      0      0      0      0      0      0      0      0      0      0      0      0      0      0 \n",
      "      ACTIVE          NONE  |      REJECTED            FG  |      697   146     29     29      0      0      2    483      0      0      0      1      1      0      0      0      0      0      0      0      0      0      0      0      4      1      1      0      0 \n",
      "      ACTIVE          NONE  |      REJECTED          NONE  |       41     0      0      0      0      0      0      1      0      0      0      0      0      0      0      0      0      0      0      0      0      0      0      0      0     19     21      0      0 \n",
      "      ACTIVE          NONE  |      OBS ONLY          NONE  |    21086     0      0      0      0      0      0      0  12217      0      0      0      0      0   8860      0      0      9      0      0      0      0      0      0      0      0      0      0      0 \n",
      "     PASSIVE          THIN  |        ACTIVE          NONE  |     7029  2314   2134   2134      0      0      0    446      0      0      0      0      0      0      0      0      0      0      0      0      0      0      0      0      0      1      0      0      0 \n",
      "     PASSIVE          THIN  |       PASSIVE       OBSTYPE  |       18     0      0      0      2      1      0      0      0      0      0      0      0      0      0      0      0      0      5      1      0      0      0      2      0      0      0      5      2 \n",
      "     PASSIVE          THIN  |      REJECTED     BLACKLIST  |       47    42      2      2      0      0      1      0      0      0      0      0      0      0      0      0      0      0      0      0      0      0      0      0      0      0      0      0      0 \n",
      "     PASSIVE          THIN  |      REJECTED        HEIGHT  |       65     6      0      0      0      0      3     46      0      0     10      0      0      0      0      0      0      0      0      0      0      0      0      0      0      0      0      0      0 \n",
      "     PASSIVE          THIN  |      REJECTED       DATASET  |      150     0     75     75      0      0      0      0      0      0      0      0      0      0      0      0      0      0      0      0      0      0      0      0      0      0      0      0      0 \n",
      "     PASSIVE          THIN  |      REJECTED            FG  |       16     3      4      4      0      0      0      5      0      0      0      0      0      0      0      0      0      0      0      0      0      0      0      0      0      0      0      0      0 \n",
      "     PASSIVE          THIN  |      OBS ONLY          NONE  |        9     0      0      0      0      0      0      0      9      0      0      0      0      0      0      0      0      0      0      0      0      0      0      0      0      0      0      0      0 \n",
      "    REJECTED        HEIGHT  |        ACTIVE        HEIGHT  |      167     0      0      0      0      0      0      0      0      0      0      0      0      0      0      0      0      0      0      0      0      0      0      0    167      0      0      0      0 \n",
      "    REJECTED        HEIGHT  |        ACTIVE          NONE  |      340   217     46     46      0      0      0     15      0      0      0      0      0      0      0      0      0      0      0      0      0      0      0      0      0     16      0      0      0 \n",
      "    REJECTED        HEIGHT  |       PASSIVE       OBSTYPE  |     3429     0      0      0    210     44      0      0      0      0      0      0      0      0      0    154    151      0   1194     78    186     81     39    408      0      0      0    735    149 \n",
      "    REJECTED        HEIGHT  |      REJECTED     BLACKLIST  |      632     9      0      0      0      0      0      0      0     68      0    127    127      0      0      0      0      0      0      0      0      0      0      0     47    127    127      0      0 \n",
      "    REJECTED        HEIGHT  |      REJECTED        HEIGHT  |    13141    14     40     40      0      0      2      3      0   1676   1885   1613   1613   1674      0      0      0      0      0      0      0      0      0      0   1363   1605   1613      0      0 \n",
      "    REJECTED        HEIGHT  |      REJECTED      PRACTICE  |      133     0      0      0      0      0      0      0      0      0     65      0      0     68      0      0      0      0      0      0      0      0      0      0      0      0      0      0      0 \n",
      "    REJECTED        HEIGHT  |      REJECTED            FG  |        1     1      0      0      0      0      0      0      0      0      0      0      0      0      0      0      0      0      0      0      0      0      0      0      0      0      0      0      0 \n",
      "    REJECTED        HEIGHT  |      OBS ONLY          NONE  |     1729     0      0      0      0      0      0      0   1533      0      0      0      0      0    185      0      0     11      0      0      0      0      0      0      0      0      0      0      0 \n",
      "    REJECTED     REDUNDANT  |        ACTIVE          NONE  |     4355   902    724    724      0      0     15    477      0      0      0    223    223      0      0      0      0      0      0      0      0      0      0      0    733    167    167      0      0 \n",
      "    REJECTED     REDUNDANT  |       PASSIVE       OBSTYPE  |     2966     0      0      0    218     18      0      0      0      0      0      0      0      0      0    509    470      0    437     84    412    187     65    318      0      0      0    138    110 \n",
      "    REJECTED     REDUNDANT  |      REJECTED     BLACKLIST  |       92    12      0      0      0      0      1      0      0     16      0     21     21      0      0      0      0      0      0      0      0      0      0      0      3      9      9      0      0 \n",
      "    REJECTED     REDUNDANT  |      REJECTED        HEIGHT  |     5177    15     15     15      0      0    122    130      0    917    664    643    643    885      0      0      0      0      0      0      0      0      0      0      1    550    577      0      0 \n",
      "    REJECTED     REDUNDANT  |      REJECTED      PRACTICE  |       16     0      0      0      0      0      1      0      0      0      1      0      0     14      0      0      0      0      0      0      0      0      0      0      0      0      0      0      0 \n",
      "    REJECTED     REDUNDANT  |      REJECTED       DATASET  |       72     0     36     36      0      0      0      0      0      0      0      0      0      0      0      0      0      0      0      0      0      0      0      0      0      0      0      0      0 \n",
      "    REJECTED     REDUNDANT  |      REJECTED            FG  |       50     0      0      0      0      0      0     49      0      0      0      0      0      0      0      0      0      0      0      0      0      0      0      0      1      0      0      0      0 \n",
      "    REJECTED     REDUNDANT  |      REJECTED          NONE  |       41     0      0      0      0      0      0      0      0      0     18      0      0      0      0      0      0      0      0      0      0      0      0      0      0     23      0      0      0 \n"
     ]
    },
    {
     "name": "stdout",
     "output_type": "stream",
     "text": [
      "    REJECTED     REDUNDANT  |      OBS ONLY          NONE  |     1001     0      0      0      0      0      0      0    504      0      0      0      0      0    496      0      0      1      0      0      0      0      0      0      0      0      0      0      0 \n",
      "    REJECTED   FLIGHTTRACK  |        ACTIVE          NONE  |       22    16      3      3      0      0      0      0      0      0      0      0      0      0      0      0      0      0      0      0      0      0      0      0      0      0      0      0      0 \n",
      "    REJECTED   FLIGHTTRACK  |      REJECTED       DATASET  |       16     0      8      8      0      0      0      0      0      0      0      0      0      0      0      0      0      0      0      0      0      0      0      0      0      0      0      0      0 \n",
      "    REJECTED   FLIGHTTRACK  |      REJECTED            FG  |        2     0      1      1      0      0      0      0      0      0      0      0      0      0      0      0      0      0      0      0      0      0      0      0      0      0      0      0      0 \n",
      "    REJECTED        NO OBS  |        ACTIVE          NONE  |      132    73      0      0      0      0      0     14      0      0      0      0      0      0      0      0      0      0      0      0      0      0      0      0      0     45      0      0      0 \n",
      "    REJECTED        NO OBS  |       PASSIVE       OBSTYPE  |     8333     0      0      0   1176    104      0      0      0      0      0      0      0      0      0    228    224      0   3807    439    221    144     75    888      0      0      0    261    766 \n",
      "    REJECTED        NO OBS  |      REJECTED     BLACKLIST  |     2109   292    194    194      0      0     81      0      0     66      0    256    256      0      0      0      0      0      0      0      0      0      0      0    258    256    256      0      0 \n",
      "    REJECTED        NO OBS  |      REJECTED        HEIGHT  |    24405     0      0      0      0      0      1      1      0   7643   5188    983    983   7522      0      0      0      0      0      0      0      0      0      0    189    923    972      0      0 \n",
      "    REJECTED        NO OBS  |      REJECTED      PRACTICE  |      390     0      0      0      0      0      0    255      0      0     67      0      0     68      0      0      0      0      0      0      0      0      0      0      0      0      0      0      0 \n",
      "    REJECTED        NO OBS  |      REJECTED       DATASET  |       80     0     40     40      0      0      0      0      0      0      0      0      0      0      0      0      0      0      0      0      0      0      0      0      0      0      0      0      0 \n",
      "    REJECTED        NO OBS  |      REJECTED          NONE  |       21     0      0      0      0      0      0      0      0      0      0      0      0      0      0      0      0      0      0      0      0      0      0      0      0      0     21      0      0 \n",
      "    REJECTED        NO OBS  |      OBS ONLY          NONE  |     1244     0      0      0      0      0      0      0    988      0      0      0      0      0    256      0      0      0      0      0      0      0      0      0      0      0      0      0      0 \n",
      "---------------------------------------------------------------------------------\n",
      "-- and after filtering : --------------------------------------------------------\n",
      "---------------------------------------------------------------------------------\n",
      "      ACTIVE          NONE  |        ACTIVE          NONE  |    87169 17792  16997  16997      0      0     55   3355      0      0      0   4521   4521      0      0      0      0      0      0      0      0      0      0      0  13969   4450   4512      0      0 \n",
      "---------------------------------------------------------------------------------\n",
      "\n"
     ]
    }
   ],
   "source": [
    "fof = Ekf(test_fn, verbose=True)"
   ]
  },
  {
   "cell_type": "code",
   "execution_count": 15,
   "metadata": {
    "collapsed": true
   },
   "outputs": [],
   "source": [
    "# get observations\n",
    "fkw = {'obstype':'SYNOP', 'varname': 'T2M', 'state':'all'}\n",
    "obs = fof.obs(param='time', **fkw)"
   ]
  },
  {
   "cell_type": "code",
   "execution_count": 16,
   "metadata": {},
   "outputs": [
    {
     "data": {
      "text/plain": [
       "(24507,)"
      ]
     },
     "execution_count": 16,
     "metadata": {},
     "output_type": "execute_result"
    }
   ],
   "source": [
    "obs.shape"
   ]
  },
  {
   "cell_type": "code",
   "execution_count": 17,
   "metadata": {},
   "outputs": [
    {
     "data": {
      "text/plain": [
       "array([  60,   60,   60, ..., 1440, 1440, 1440], dtype=int16)"
      ]
     },
     "execution_count": 17,
     "metadata": {},
     "output_type": "execute_result"
    }
   ],
   "source": [
    "obs"
   ]
  },
  {
   "cell_type": "code",
   "execution_count": 12,
   "metadata": {
    "collapsed": true
   },
   "outputs": [],
   "source": [
    "fc = fof.fg(**fkw)"
   ]
  },
  {
   "cell_type": "code",
   "execution_count": 13,
   "metadata": {},
   "outputs": [
    {
     "data": {
      "text/plain": [
       "(24507,)"
      ]
     },
     "execution_count": 13,
     "metadata": {},
     "output_type": "execute_result"
    }
   ],
   "source": [
    "fc.shape"
   ]
  },
  {
   "cell_type": "code",
   "execution_count": 14,
   "metadata": {},
   "outputs": [
    {
     "data": {
      "text/plain": [
       "<matplotlib.collections.PathCollection at 0x7f03ab84b9d0>"
      ]
     },
     "execution_count": 14,
     "metadata": {},
     "output_type": "execute_result"
    },
    {
     "data": {
      "image/png": "[encoded data removed]",
      "text/plain": [
       "<matplotlib.figure.Figure at 0x7f03b2d3de90>"
      ]
     },
     "metadata": {},
     "output_type": "display_data"
    }
   ],
   "source": [
    "%matplotlib inline\n",
    "import matplotlib.pyplot as plt\n",
    "plt.scatter(obs, fc)"
   ]
  },
  {
   "cell_type": "code",
   "execution_count": 20,
   "metadata": {
    "collapsed": true
   },
   "outputs": [],
   "source": [
    "ens_fn = ' /project/meteo/w2w/A6/S.Rasp/kenda_psp_data/data_forecast/DA_REF_ens/20160527000000/ens020/fof_20160527000000.nc'"
   ]
  },
  {
   "cell_type": "code",
   "execution_count": 21,
   "metadata": {},
   "outputs": [
    {
     "name": "stdout",
     "output_type": "stream",
     "text": [
      "\n",
      "-- -- -- -- -- -- -- -- -- -- -- -- -- -- -- -- -- -- -- -- -- -- -- -- -- \n",
      "-- Ekf : Opening  /project/meteo/w2w/A6/S.Rasp/kenda_psp_data/data_forecast/DA_REF_ens/20160527000000/ens020/fof_20160527000000.nc...\n"
     ]
    },
    {
     "ename": "IOError",
     "evalue": "No such file or directory",
     "output_type": "error",
     "traceback": [
      "\u001b[0;31m---------------------------------------------------------------------------\u001b[0m",
      "\u001b[0;31mIOError\u001b[0m                                   Traceback (most recent call last)",
      "\u001b[0;32m<ipython-input-21-d446a40a1378>\u001b[0m in \u001b[0;36m<module>\u001b[0;34m()\u001b[0m\n\u001b[0;32m----> 1\u001b[0;31m \u001b[0mens_fof\u001b[0m \u001b[0;34m=\u001b[0m \u001b[0mEkf\u001b[0m\u001b[0;34m(\u001b[0m\u001b[0mens_fn\u001b[0m\u001b[0;34m,\u001b[0m \u001b[0mverbose\u001b[0m\u001b[0;34m=\u001b[0m\u001b[0mTrue\u001b[0m\u001b[0;34m)\u001b[0m\u001b[0;34m\u001b[0m\u001b[0m\n\u001b[0m",
      "\u001b[0;32m/home/s/S.Rasp/repositories/kendapy/ekf.py\u001b[0m in \u001b[0;36m__init__\u001b[0;34m(self, fname, state_filter, obstype_filter, varname_filter, area_filter, test_tables, verbose)\u001b[0m\n\u001b[1;32m    266\u001b[0m             \u001b[0;32mprint\u001b[0m \u001b[0;34m'-- '\u001b[0m \u001b[0;34m*\u001b[0m \u001b[0;36m25\u001b[0m\u001b[0;34m\u001b[0m\u001b[0m\n\u001b[1;32m    267\u001b[0m             \u001b[0;32mprint\u001b[0m \u001b[0;34m'-- Ekf : Opening %s...'\u001b[0m \u001b[0;34m%\u001b[0m \u001b[0mfname\u001b[0m\u001b[0;34m\u001b[0m\u001b[0m\n\u001b[0;32m--> 268\u001b[0;31m         \u001b[0mncf\u001b[0m \u001b[0;34m=\u001b[0m \u001b[0mnetCDF4\u001b[0m\u001b[0;34m.\u001b[0m\u001b[0mDataset\u001b[0m\u001b[0;34m(\u001b[0m \u001b[0mfname\u001b[0m\u001b[0;34m,\u001b[0m \u001b[0;34m'r'\u001b[0m\u001b[0;34m)\u001b[0m\u001b[0;34m\u001b[0m\u001b[0m\n\u001b[0m\u001b[1;32m    269\u001b[0m \u001b[0;34m\u001b[0m\u001b[0m\n\u001b[1;32m    270\u001b[0m         \u001b[0mself\u001b[0m\u001b[0;34m.\u001b[0m\u001b[0mattr\u001b[0m \u001b[0;34m=\u001b[0m \u001b[0;34m{\u001b[0m\u001b[0;34m}\u001b[0m\u001b[0;34m\u001b[0m\u001b[0m\n",
      "\u001b[0;32mnetCDF4/_netCDF4.pyx\u001b[0m in \u001b[0;36mnetCDF4._netCDF4.Dataset.__init__ (netCDF4/_netCDF4.c:13231)\u001b[0;34m()\u001b[0m\n",
      "\u001b[0;31mIOError\u001b[0m: No such file or directory"
     ]
    }
   ],
   "source": [
    "ens_fof = Ekf(ens_fn, verbose=True)"
   ]
  },
  {
   "cell_type": "code",
   "execution_count": 25,
   "metadata": {},
   "outputs": [
    {
     "name": "stdout",
     "output_type": "stream",
     "text": [
      "fof_20160527000000.nc  lfff00064500_15\tlfff00134500_15  lfff00204500_15\r\n",
      "lfff00000000_15        lfff00070000_15\tlfff00140000_15  lfff00210000_15\r\n",
      "lfff00001500_15        lfff00071500_15\tlfff00141500_15  lfff00211500_15\r\n",
      "lfff00003000_15        lfff00073000_15\tlfff00143000_15  lfff00213000_15\r\n",
      "lfff00004500_15        lfff00074500_15\tlfff00144500_15  lfff00214500_15\r\n",
      "lfff00010000_15        lfff00080000_15\tlfff00150000_15  lfff00220000_15\r\n",
      "lfff00011500_15        lfff00081500_15\tlfff00151500_15  lfff00221500_15\r\n",
      "lfff00013000_15        lfff00083000_15\tlfff00153000_15  lfff00223000_15\r\n",
      "lfff00014500_15        lfff00084500_15\tlfff00154500_15  lfff00224500_15\r\n",
      "lfff00020000_15        lfff00090000_15\tlfff00160000_15  lfff00230000_15\r\n",
      "lfff00021500_15        lfff00091500_15\tlfff00161500_15  lfff00231500_15\r\n",
      "lfff00023000_15        lfff00093000_15\tlfff00163000_15  lfff00233000_15\r\n",
      "lfff00024500_15        lfff00094500_15\tlfff00164500_15  lfff00234500_15\r\n",
      "lfff00030000_15        lfff00100000_15\tlfff00170000_15  lfff01000000_15\r\n",
      "lfff00031500_15        lfff00101500_15\tlfff00171500_15  YUCHKDAT\r\n",
      "lfff00033000_15        lfff00103000_15\tlfff00173000_15  YUOBSDR\r\n",
      "lfff00034500_15        lfff00104500_15\tlfff00174500_15  YUPRHUMI\r\n",
      "lfff00040000_15        lfff00110000_15\tlfff00180000_15  YUPRINT\r\n",
      "lfff00041500_15        lfff00111500_15\tlfff00181500_15  YUPRMASS\r\n",
      "lfff00043000_15        lfff00113000_15\tlfff00183000_15  YUQUCTL\r\n",
      "lfff00044500_15        lfff00114500_15\tlfff00184500_15  YUREJCT\r\n",
      "lfff00050000_15        lfff00120000_15\tlfff00190000_15  YUSPECIF\r\n",
      "lfff00051500_15        lfff00121500_15\tlfff00191500_15  YUSTATS\r\n",
      "lfff00053000_15        lfff00123000_15\tlfff00193000_15  YUSURF\r\n",
      "lfff00054500_15        lfff00124500_15\tlfff00194500_15  YUTIMING\r\n",
      "lfff00060000_15        lfff00130000_15\tlfff00200000_15  YUVERIF\r\n",
      "lfff00061500_15        lfff00131500_15\tlfff00201500_15\r\n",
      "lfff00063000_15        lfff00133000_15\tlfff00203000_15\r\n"
     ]
    }
   ],
   "source": [
    "ens_dir = '/project/meteo/w2w/A6/S.Rasp/kenda_psp_data/data_forecast/DA_PSPv2_ens/20160527000000/ens020/'\n",
    "!ls $ens_dir"
   ]
  },
  {
   "cell_type": "code",
   "execution_count": 26,
   "metadata": {},
   "outputs": [
    {
     "name": "stdout",
     "output_type": "stream",
     "text": [
      "\n",
      "-- -- -- -- -- -- -- -- -- -- -- -- -- -- -- -- -- -- -- -- -- -- -- -- -- \n",
      "-- Ekf : Opening /project/meteo/w2w/A6/S.Rasp/kenda_psp_data/data_forecast/DA_PSPv2_ens/20160527000000/ens020/fof_20160527000000.nc...\n",
      "-- global attributes :\n",
      "--                     history | 201709181515    COSMO 201605270000 forecast ensemble member  20                 \n",
      "--                       title | COSMO      Verification Data\n",
      "--                 institution | -\n",
      "--                      source | COSMO      -\n",
      "--         file_version_number |  1.01\n",
      "--                       n_hdr | 19034\n",
      "--                      n_body | 72265\n",
      "--                     n_radar | 0\n",
      "--       verification_ref_date | 20160527\n",
      "--       verification_ref_time | 0\n",
      "--          verification_start | 1\n",
      "--            verification_end | 1440\n",
      "--                  resolution | [ 0.025  0.025]\n",
      "--                 domain_size | [421 461  50]\n",
      "--                pole_lat_lon | [  40. -170.]\n",
      "--          lower_left_lat_lon | [-5. -5.]\n",
      "--         upper_right_lat_lon | [ 6.5  5.5]\n",
      "-- Found n_body = 72265 obs in n_hdr = 19034 reports...\n",
      "-- available variables :\n",
      "--                    i_body (u'd_hdr',) 302448 0 ,  0 , ...  --\n",
      "--                    l_body (u'd_hdr',) 302448 3 ,  3 , ...  --\n",
      "--                   n_level (u'd_hdr',) 302448 1 ,  1 , ...  --\n",
      "--             data_category (u'd_hdr',) 302448 4 ,  4 , ...  --\n",
      "--              sub_category (u'd_hdr',) 302448 0 ,  0 , ...  --\n",
      "--                    center (u'd_hdr',) 302448 78 ,  78 , ...  --\n",
      "--                sub_center (u'd_hdr',) 302448 56 ,  56 , ...  --\n",
      "--                   obstype (u'd_hdr',) 302448 2 ,  2 , ...  --\n",
      "--                  codetype (u'd_hdr',) 302448 145 ,  145 , ...  --\n",
      "--                     ident (u'd_hdr',) 302448 -- ,  -- , ...  --\n",
      "--                    statid (u'd_hdr', u'char10') 3024480 \" 5DPGUWJA   \", ... \"  \"\n",
      "--                       lat (u'd_hdr',) 302448 50.85 ,  50.85 , ...  --\n",
      "--                       lon (u'd_hdr',) 302448 7.16 ,  7.16 , ...  --\n",
      "--                      time (u'd_hdr',) 302448 19 ,  19 , ...  --\n",
      "--                 time_nomi (u'd_hdr',) 302448 0 ,  0 , ...  --\n",
      "--                time_dbase (u'd_hdr',) 302448 32 ,  32 , ...  --\n",
      "--                 z_station (u'd_hdr',) 302448 -- ,  -- , ...  --\n",
      "--                 z_modsurf (u'd_hdr',) 302448 81 ,  81 , ...  --\n",
      "--                   r_state (u'd_hdr',) 302448 1 ,  1 , ...  --\n",
      "--                   r_flags (u'd_hdr',) 302448 0 ,  0 , ...  --\n",
      "--                   r_check (u'd_hdr',) 302448 32 ,  32 , ...  --\n",
      "--                  sta_corr (u'd_hdr',) 302448 0 ,  0 , ...  --\n",
      "--                   index_x (u'd_hdr',) 302448 129 ,  129 , ...  --\n",
      "--                   index_y (u'd_hdr',) 302448 236 ,  236 , ...  --\n",
      "--                    mdlsfc (u'd_hdr',) 302448 0 ,  0 , ...  --\n",
      "--                   instype (u'd_hdr',) 302448 -- ,  -- , ...  --\n",
      "--                 sun_zenit (u'd_hdr',) 302448 106.827 ,  106.827 , ...  --\n",
      "--                     phase (u'd_hdr',) 302448 5 ,  5 , ...  --\n",
      "--                  tracking (u'd_hdr',) 302448 -- ,  -- , ...  --\n",
      "--                 meas_type (u'd_hdr',) 302448 -- ,  -- , ...  --\n",
      "--                  rad_corr (u'd_hdr',) 302448 -- ,  -- , ...  --\n",
      "--                     varno (u'd_body',) 7796784 3 ,  3 , ...  --\n",
      "--                       obs (u'd_body',) 7796784 -2.58195 ,  -2.58195 , ...  --\n",
      "--                      bcor (u'd_body',) 7796784 0.0 ,  0.0 , ...  --\n",
      "--                     level (u'd_body',) 7796784 351.0 ,  351.0 , ...  --\n",
      "--                 level_typ (u'd_body',) 7796784 157 ,  157 , ...  --\n",
      "--                 level_sig (u'd_body',) 7796784 16 ,  16 , ...  --\n",
      "--                     state (u'd_body',) 7796784 1 ,  1 , ...  --\n",
      "--                     flags (u'd_body',) 7796784 0 ,  0 , ...  --\n",
      "--                     check (u'd_body',) 7796784 32 ,  32 , ...  --\n",
      "--                       e_o (u'd_body',) 7796784 2.5 ,  2.5 , ...  --\n",
      "--                      qual (u'd_body',) 7796784 0 ,  0 , ...  --\n",
      "--                    plevel (u'd_body',) 7796784 97180.0 ,  97180.0 , ...  --\n",
      "--                      dlat (u'd_body',) 7796784 -- ,  -- , ...  --\n",
      "--                      dlon (u'd_body',) 7796784 -- ,  -- , ...  --\n",
      "--                  accuracy (u'd_body',) 7796784 -- ,  -- , ...  --\n",
      "--                veri_model (u'd_veri', u'char10') 10 \" COSMO      \", ... \" COSMO      \"\n",
      "--             veri_run_type (u'd_veri',) 1 0 ,  0 , ...  0\n",
      "--            veri_run_class (u'd_veri',) 1 2 ,  2 , ...  2\n",
      "--        veri_forecast_time (u'd_veri',) 1 2400 ,  2400 , ...  2400\n",
      "--           veri_ens_member (u'd_veri',) 1 20 ,  20 , ...  20\n",
      "--               veri_exp_id (u'd_veri',) 1 1 ,  1 , ...  1\n",
      "--        veri_operator_flag (u'd_veri',) 1 0 ,  0 , ...  0\n",
      "-- header       variables :  [u'i_body', u'l_body', u'n_level', u'data_category', u'sub_category', u'center', u'sub_center', u'obstype', u'codetype', u'ident', u'statid', u'lat', u'lon', u'time', u'time_nomi', u'time_dbase', u'z_station', u'z_modsurf', u'r_state', u'r_flags', u'r_check', u'sta_corr', u'index_x', u'index_y', u'mdlsfc', u'instype', u'sun_zenit', u'phase', u'tracking', u'meas_type', u'rad_corr']\n",
      "-- body         variables :  [u'varno', u'obs', u'bcor', u'level', u'level_typ', u'level_sig', u'state', u'flags', u'check', u'e_o', u'qual', u'plevel', u'dlat', u'dlon', u'accuracy']\n",
      "-- verification variables :  [u'veri_data', u'veri_model', u'veri_run_type', u'veri_run_class', u'veri_initial_date', u'veri_forecast_time', u'veri_resolution', u'veri_domain_size', u'veri_description', u'veri_ens_member', u'veri_exp_id', u'veri_operator_flag']\n",
      "-- variables available for obstype TEMP :  T2M  U10M  NHcbh  HEIGHT  RH2M  V10M  U  T  V  NL  RH \n",
      "-- variables available for obstype AIREP :  HEIGHT  RH2M  U  T  V  RH \n",
      "--\n",
      "-- verification runs ------------------------------------------------------------------------------------------------------------------------\n",
      "--    i |             type |     class |          ens. member |   exp_id |  time |      model | description\n",
      "--    0 | 0 =     FORECAST | 2 =   ASS |                   20 |        1 |  2400 |      COSMO |  forecast ensemble member  20\n",
      "------------------------------------------------------------------------------------------------------------------------------------------\n",
      "WARNING: cannot find analysis ensemble mean in observation space in /project/meteo/w2w/A6/S.Rasp/kenda_psp_data/data_forecast/DA_PSPv2_ens/20160527000000/ens020/fof_20160527000000.nc\n",
      "WARNING: cannot find first guess ensemble mean in observation space in /project/meteo/w2w/A6/S.Rasp/kenda_psp_data/data_forecast/DA_PSPv2_ens/20160527000000/ens020/fof_20160527000000.nc\n",
      "WARNING: cannot find first guess ensemble spread in observation space in /project/meteo/w2w/A6/S.Rasp/kenda_psp_data/data_forecast/DA_PSPv2_ens/20160527000000/ens020/fof_20160527000000.nc\n",
      "WARNING: cannot find first first guess ensemble member in /project/meteo/w2w/A6/S.Rasp/kenda_psp_data/data_forecast/DA_PSPv2_ens/20160527000000/ens020/fof_20160527000000.nc\n",
      "WARNING: cannot find first analysis ensemble member in /project/meteo/w2w/A6/S.Rasp/kenda_psp_data/data_forecast/DA_PSPv2_ens/20160527000000/ens020/fof_20160527000000.nc\n",
      "WARNING: cannot find deterministic ensemble member first guess in /project/meteo/w2w/A6/S.Rasp/kenda_psp_data/data_forecast/DA_PSPv2_ens/20160527000000/ens020/fof_20160527000000.nc\n",
      "WARNING: cannot find deterministic ensemble member analysis in /project/meteo/w2w/A6/S.Rasp/kenda_psp_data/data_forecast/DA_PSPv2_ens/20160527000000/ens020/fof_20160527000000.nc\n",
      "-- set_filter [state=active,obstype=all,varname=all] : using 54076 of 72265 observations\n",
      "-- obstypes  left after filtering :  ['AIREP', 'TEMP']\n",
      "-- variables left after filtering :  ['T', 'U', 'V', 'U10M', 'V10M', 'HEIGHT', 'RH']\n",
      "\n",
      "---------------------------------------------------------------------------------\n",
      "-- state and flags statistics  (without filter) : -------------------------------\n",
      "---------------------------------------------------------------------------------\n",
      "     R_STATE       R_CHECK  |         STATE         CHECK  |   #CASES      T      U      V    T2M   U10M   V10M  NHcbh     NL   RH2M  HEIGHT     RH \n",
      "---------------------------------------------------------------------------------\n"
     ]
    },
    {
     "name": "stdout",
     "output_type": "stream",
     "text": [
      "      ACTIVE          NONE  |        ACTIVE          NONE  |    54076 17309  16632  16632      0     24     24      0      0      0     57   3398 \n",
      "      ACTIVE          NONE  |       PASSIVE       OBSTYPE  |       48     0      0      0      0      0      0     23     25      0      0      0 \n",
      "      ACTIVE          NONE  |      REJECTED     BLACKLIST  |      801   653     74     74      0      0      0      0      0      0      0      0 \n",
      "      ACTIVE          NONE  |      REJECTED        HEIGHT  |     2274    74     60     60     24      0      0      0      0     35    764   1257 \n",
      "      ACTIVE          NONE  |      REJECTED      PRACTICE  |        4     0      0      0      0      0      0      0      0      0      4      0 \n",
      "      ACTIVE          NONE  |      REJECTED       DATASET  |     2104     0   1052   1052      0      0      0      0      0      0      0      0 \n",
      "      ACTIVE          NONE  |      REJECTED         GROSS  |       20     0      0      0      0      0      0      0      0      0      0     20 \n",
      "      ACTIVE          NONE  |      REJECTED            FG  |     1034   201    104    104      0      0      0      0      0      0      3    622 \n",
      "      ACTIVE          NONE  |      REJECTED          NONE  |        4     0      0      0      0      0      0      0      0      0      0      4 \n",
      "     PASSIVE          THIN  |        ACTIVE          NONE  |     7177  2335   2155   2155      0      0      0      0      0      0      0    532 \n",
      "     PASSIVE          THIN  |      REJECTED     BLACKLIST  |       89    71      9      9      0      0      0      0      0      0      0      0 \n",
      "     PASSIVE          THIN  |      REJECTED        HEIGHT  |       62     4      0      0      0      0      0      0      0      0      3     55 \n",
      "     PASSIVE          THIN  |      REJECTED      PRACTICE  |        4     0      0      0      0      0      0      0      0      0      4      0 \n",
      "     PASSIVE          THIN  |      REJECTED       DATASET  |      134     0     67     67      0      0      0      0      0      0      0      0 \n",
      "     PASSIVE          THIN  |      REJECTED         GROSS  |        2     0      0      0      0      0      0      0      0      0      0      2 \n",
      "     PASSIVE          THIN  |      REJECTED            FG  |       63     1      1      1      0      0      0      0      0      0      0     60 \n",
      "    REJECTED        HEIGHT  |        ACTIVE          NONE  |      272   156     52     52      0      0      0      0      0      0      0     12 \n",
      "    REJECTED        HEIGHT  |      REJECTED     BLACKLIST  |       12    10      1      1      0      0      0      0      0      0      0      0 \n",
      "    REJECTED        HEIGHT  |      REJECTED        HEIGHT  |       31     5     12     12      0      0      0      0      0      0      1      1 \n",
      "    REJECTED        HEIGHT  |      REJECTED            FG  |        4     2      0      0      0      0      0      0      0      0      0      2 \n",
      "    REJECTED     REDUNDANT  |        ACTIVE          NONE  |     2938   825    761    761      0     32     32      0      0      0     14    513 \n",
      "    REJECTED     REDUNDANT  |       PASSIVE       OBSTYPE  |       97     0      0      0      0      0      0     57     40      0      0      0 \n",
      "    REJECTED     REDUNDANT  |      REJECTED     BLACKLIST  |       30    28      1      1      0      0      0      0      0      0      0      0 \n",
      "    REJECTED     REDUNDANT  |      REJECTED        HEIGHT  |      531    14     14     14     84     52     52      0      0     85    108    108 \n",
      "    REJECTED     REDUNDANT  |      REJECTED       DATASET  |       28     0     14     14      0      0      0      0      0      0      0      0 \n",
      "    REJECTED     REDUNDANT  |      REJECTED            FG  |       49     2      1      1      0      0      0      0      0      0      0     45 \n",
      "    REJECTED   FLIGHTTRACK  |        ACTIVE          NONE  |       22    16      3      3      0      0      0      0      0      0      0      0 \n",
      "    REJECTED   FLIGHTTRACK  |      REJECTED       DATASET  |       22     0     11     11      0      0      0      0      0      0      0      0 \n",
      "    REJECTED        NO OBS  |        ACTIVE          NONE  |       35    34      0      0      0      0      0      0      0      0      0      1 \n",
      "    REJECTED        NO OBS  |       PASSIVE       OBSTYPE  |       13     0      0      0      0      0      0     13      0      0      0      0 \n",
      "    REJECTED        NO OBS  |      REJECTED     BLACKLIST  |       46    46      0      0      0      0      0      0      0      0      0      0 \n",
      "    REJECTED        NO OBS  |      REJECTED        HEIGHT  |      138     0      0      0     36     36     36      0      0     24      6      0 \n",
      "    REJECTED        NO OBS  |      REJECTED      PRACTICE  |        3     0      0      0      0      0      0      0      0      0      3      0 \n",
      "    REJECTED        NO OBS  |      REJECTED       DATASET  |       98     0     49     49      0      0      0      0      0      0      0      0 \n",
      "---------------------------------------------------------------------------------\n",
      "-- and after filtering : --------------------------------------------------------\n",
      "---------------------------------------------------------------------------------\n",
      "      ACTIVE          NONE  |        ACTIVE          NONE  |    54076 17309  16632  16632      0     24     24      0      0      0     57   3398 \n",
      "---------------------------------------------------------------------------------\n",
      "\n"
     ]
    }
   ],
   "source": [
    "ens_fof = Ekf(ens_dir + 'fof_20160527000000.nc', verbose=True)"
   ]
  },
  {
   "cell_type": "code",
   "execution_count": null,
   "metadata": {
    "collapsed": true
   },
   "outputs": [],
   "source": []
  }
 ],
 "metadata": {
  "kernelspec": {
   "display_name": "Python 2",
   "language": "python",
   "name": "python2"
  },
  "language_info": {
   "codemirror_mode": {
    "name": "ipython",
    "version": 2
   },
   "file_extension": ".py",
   "mimetype": "text/x-python",
   "name": "python",
   "nbconvert_exporter": "python",
   "pygments_lexer": "ipython2",
   "version": "2.7.13"
  }
 },
 "nbformat": 4,
 "nbformat_minor": 2
}
