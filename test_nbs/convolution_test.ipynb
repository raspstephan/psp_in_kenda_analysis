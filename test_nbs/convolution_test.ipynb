{
 "cells": [
  {
   "cell_type": "markdown",
   "metadata": {
    "toc": "true"
   },
   "source": [
    " # Table of Contents\n",
    "<div class=\"toc\" style=\"margin-top: 1em;\"><ul class=\"toc-item\" id=\"toc-level0\"><li><span><a href=\"http://localhost:8888/notebooks/convolution_test.ipynb#Create-test-data\" data-toc-modified-id=\"Create-test-data-1\"><span class=\"toc-item-num\">1&nbsp;&nbsp;</span>Create test data</a></span></li><li><span><a href=\"http://localhost:8888/notebooks/convolution_test.ipynb#Old-method\" data-toc-modified-id=\"Old-method-2\"><span class=\"toc-item-num\">2&nbsp;&nbsp;</span>Old method</a></span></li><li><span><a href=\"http://localhost:8888/notebooks/convolution_test.ipynb#New-method\" data-toc-modified-id=\"New-method-3\"><span class=\"toc-item-num\">3&nbsp;&nbsp;</span>New method</a></span></li></ul></div>"
   ]
  },
  {
   "cell_type": "code",
   "execution_count": 4,
   "metadata": {
    "collapsed": true
   },
   "outputs": [],
   "source": [
    "import numpy as np\n",
    "from scipy.ndimage.filters import convolve\n",
    "from scipy.signal import convolve2d\n",
    "import timeit"
   ]
  },
  {
   "cell_type": "code",
   "execution_count": 6,
   "metadata": {
    "collapsed": true
   },
   "outputs": [],
   "source": [
    "scale = 31\n",
    "old_kernel = np.ones((scale, scale)) / float((scale * scale))"
   ]
  },
  {
   "cell_type": "markdown",
   "metadata": {},
   "source": [
    "## Create test data"
   ]
  },
  {
   "cell_type": "code",
   "execution_count": 2,
   "metadata": {
    "collapsed": true
   },
   "outputs": [],
   "source": [
    "data3d = np.random.rand(24, 201, 201)\n",
    "data4d = np.random.rand(24, 20, 201, 201)"
   ]
  },
  {
   "cell_type": "markdown",
   "metadata": {},
   "source": [
    "## Old method"
   ]
  },
  {
   "cell_type": "code",
   "execution_count": 13,
   "metadata": {
    "collapsed": true
   },
   "outputs": [],
   "source": [
    "old_con3d = np.zeros(data3d.shape)"
   ]
  },
  {
   "cell_type": "code",
   "execution_count": 14,
   "metadata": {},
   "outputs": [
    {
     "name": "stdout",
     "output_type": "stream",
     "text": [
      "4.48191189766\n"
     ]
    }
   ],
   "source": [
    "t1 = timeit.default_timer()\n",
    "for i in range(data4d.shape[0]):\n",
    "    old_con3d[i] = convolve2d(data3d[i], old_kernel, mode='same')\n",
    "t2 = timeit.default_timer()\n",
    "print(t2 - t1)"
   ]
  },
  {
   "cell_type": "markdown",
   "metadata": {},
   "source": [
    "## New method"
   ]
  },
  {
   "cell_type": "code",
   "execution_count": 21,
   "metadata": {},
   "outputs": [
    {
     "data": {
      "text/plain": [
       "(1, 31, 31)"
      ]
     },
     "execution_count": 21,
     "metadata": {},
     "output_type": "execute_result"
    }
   ],
   "source": [
    "new_kernel = np.ones((1, scale, scale)) / float((scale * scale))\n",
    "new_kernel.shape"
   ]
  },
  {
   "cell_type": "code",
   "execution_count": 22,
   "metadata": {},
   "outputs": [
    {
     "name": "stdout",
     "output_type": "stream",
     "text": [
      "1.19387197495\n"
     ]
    }
   ],
   "source": [
    "t1 = timeit.default_timer()\n",
    "new_con3d = convolve(data3d, new_kernel, mode='constant')\n",
    "t2 = timeit.default_timer()\n",
    "print(t2 - t1)"
   ]
  },
  {
   "cell_type": "code",
   "execution_count": 23,
   "metadata": {},
   "outputs": [
    {
     "data": {
      "text/plain": [
       "(24, 201, 201)"
      ]
     },
     "execution_count": 23,
     "metadata": {},
     "output_type": "execute_result"
    }
   ],
   "source": [
    "new_con3d.shape"
   ]
  },
  {
   "cell_type": "code",
   "execution_count": 24,
   "metadata": {},
   "outputs": [
    {
     "data": {
      "text/plain": [
       "array([[ 0.13078434,  0.13682912,  0.14512283,  0.15278089,  0.16335729],\n",
       "       [ 0.13934295,  0.14636011,  0.15474475,  0.16296549,  0.17381824],\n",
       "       [ 0.14611523,  0.15339401,  0.1625169 ,  0.17095909,  0.18205539],\n",
       "       [ 0.15329494,  0.16104096,  0.17048942,  0.17974287,  0.19174902],\n",
       "       [ 0.16007739,  0.16842779,  0.17811981,  0.18783659,  0.20060143]])"
      ]
     },
     "execution_count": 24,
     "metadata": {},
     "output_type": "execute_result"
    }
   ],
   "source": [
    "old_con3d[0, :5, :5]"
   ]
  },
  {
   "cell_type": "code",
   "execution_count": 25,
   "metadata": {},
   "outputs": [
    {
     "data": {
      "text/plain": [
       "array([[ 0.13078434,  0.13682912,  0.14512283,  0.15278089,  0.16335729],\n",
       "       [ 0.13934295,  0.14636011,  0.15474475,  0.16296549,  0.17381824],\n",
       "       [ 0.14611523,  0.15339401,  0.1625169 ,  0.17095909,  0.18205539],\n",
       "       [ 0.15329494,  0.16104096,  0.17048942,  0.17974287,  0.19174902],\n",
       "       [ 0.16007739,  0.16842779,  0.17811981,  0.18783659,  0.20060143]])"
      ]
     },
     "execution_count": 25,
     "metadata": {},
     "output_type": "execute_result"
    }
   ],
   "source": [
    "new_con3d[0, :5, :5]"
   ]
  },
  {
   "cell_type": "code",
   "execution_count": 26,
   "metadata": {},
   "outputs": [
    {
     "data": {
      "text/plain": [
       "(1, 1, 31, 31)"
      ]
     },
     "execution_count": 26,
     "metadata": {},
     "output_type": "execute_result"
    }
   ],
   "source": [
    "new_kernel4d = np.ones((1, 1, scale, scale)) / float((scale * scale))\n",
    "new_kernel4d.shape"
   ]
  },
  {
   "cell_type": "code",
   "execution_count": 27,
   "metadata": {},
   "outputs": [
    {
     "name": "stdout",
     "output_type": "stream",
     "text": [
      "23.9029929638\n"
     ]
    }
   ],
   "source": [
    "t1 = timeit.default_timer()\n",
    "new_con4d = convolve(data4d, new_kernel4d, mode='constant')\n",
    "t2 = timeit.default_timer()\n",
    "print(t2 - t1)"
   ]
  },
  {
   "cell_type": "code",
   "execution_count": null,
   "metadata": {
    "collapsed": true
   },
   "outputs": [],
   "source": []
  }
 ],
 "metadata": {
  "kernelspec": {
   "display_name": "Python 2",
   "language": "python",
   "name": "python2"
  },
  "language_info": {
   "codemirror_mode": {
    "name": "ipython",
    "version": 2
   },
   "file_extension": ".py",
   "mimetype": "text/x-python",
   "name": "python",
   "nbconvert_exporter": "python",
   "pygments_lexer": "ipython2",
   "version": "2.7.13"
  },
  "toc": {
   "nav_menu": {},
   "number_sections": true,
   "sideBar": true,
   "skip_h1_title": true,
   "toc_cell": true,
   "toc_position": {},
   "toc_section_display": "block",
   "toc_window_display": false
  }
 },
 "nbformat": 4,
 "nbformat_minor": 2
}
